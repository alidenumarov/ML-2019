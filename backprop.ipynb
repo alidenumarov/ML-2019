{
  "nbformat": 4,
  "nbformat_minor": 0,
  "metadata": {
    "colab": {
      "name": "Untitled0.ipynb",
      "provenance": []
    },
    "kernelspec": {
      "name": "python3",
      "display_name": "Python 3"
    }
  },
  "cells": [
    {
      "cell_type": "code",
      "metadata": {
        "id": "ZI3uKThrU6lF",
        "colab_type": "code",
        "outputId": "4e01618b-4e1c-4bb5-ea2a-39d306562b97",
        "colab": {
          "base_uri": "https://localhost:8080/",
          "height": 357
        }
      },
      "source": [
        "import numpy as np\n",
        "import matplotlib.pyplot as plt\n",
        "\n",
        "# k = 1\n",
        "def sigmoid(x):\n",
        "    return 1.0/(1.0 + np.exp(-x))\n",
        "\n",
        "def sigmoid_prime(x):\n",
        "    #this function was changed\n",
        "    # return np.multiply(x,(1.0-x))\n",
        "    return x *(1.0-x)\n",
        "    # return sigmoid(x)*(1.0-sigmoid(x))\n",
        "\n",
        "def tanh(x):\n",
        "    return np.tanh(x)\n",
        "\n",
        "def tanh_prime(x):\n",
        "    return 1.0 - x**2\n",
        "\n",
        "import numpy as np\n",
        "E = []\n",
        "\n",
        "class NeuralNetwork:\n",
        "\n",
        "    def __init__(self, layers):\n",
        "        self.activation = sigmoid\n",
        "        self.activation_prime = sigmoid_prime\n",
        "\n",
        "        # self.activation = tanh\n",
        "        # self.activation_prime = tanh_prime\n",
        "\n",
        "        # Set weights\n",
        "        self.weights = []\n",
        "        # layers = [2,2,1]\n",
        "        # range of weight values (-1,1)\n",
        "        # input and hidden layers - random((2+1, 2+1)) : 3 x 3\n",
        "        \n",
        "        for i in range(1, len(layers) - 1):\n",
        "            r = 2*np.random.random((layers[i-1] + 1, layers[i] + 1)) -1\n",
        "            self.weights.append(r)\n",
        "            print(r)\n",
        "        # output layer - random((2+1, 1)) : 3 x 1\n",
        "        r = 2*np.random.random( (layers[i] + 1, layers[i+1])) - 1\n",
        "        print(r)\n",
        "        self.weights.append(r)\n",
        "\n",
        "    def fit(self, X, y, learning_rate=0.2, epochs=100000):\n",
        "        # Add column of ones to X\n",
        "        # This is to add the bias unit to the input layer\n",
        "        ones = np.atleast_2d(np.ones(X.shape[0]))\n",
        "        X = np.concatenate((ones.T, X), axis=1)\n",
        "        for k in range(epochs):\n",
        "            \n",
        "            i = np.random.randint(X.shape[0])\n",
        "            a = [X[i]]\n",
        "            for l in range(len(self.weights)):\n",
        "                    dot_value = np.dot(a[l], self.weights[l])\n",
        "                    activation = self.activation(dot_value)\n",
        "                    a.append(activation)\n",
        "            # output layer\n",
        "            #error = y[i] - a[-1]\n",
        "            error = y[i] - a[-1]\n",
        "            E.append(error)\n",
        "          \n",
        "            deltas = [error * self.activation_prime(a[-1])]\n",
        "            # we have to start at the second to last layer \n",
        "            # (a layer before the output layer)\n",
        "            for l in range(len(a) - 2, 0, -1): \n",
        "                deltas.append(deltas[-1].dot(self.weights[l].T)*self.activation_prime(a[l]))\n",
        "\n",
        "            # reverse\n",
        "            # [level3(output)->level2(hidden)]  => [level2(hidden)->level3(output)]\n",
        "            deltas.reverse()\n",
        "\n",
        "            # backpropagation\n",
        "            # 1. Multiply its output delta and input activation \n",
        "            #    to get the gradient of the weight.\n",
        "            # 2. Subtract a ratio (percentage) of the gradient from the weight.\n",
        "            for i in range(len(self.weights)):\n",
        "                layer = np.atleast_2d(a[i])\n",
        "                delta = np.atleast_2d(deltas[i])\n",
        "                self.weights[i] += learning_rate * layer.T.dot(delta)\n",
        "\n",
        "            if k % 10000 == 0: \n",
        "                print('epochs:', k)\n",
        "\n",
        "    def predict(self, x): \n",
        "    \n",
        "        a = np.concatenate((np.ones(1).T, np.array(x)))      \n",
        "\n",
        "        for l in range(0, len(self.weights)):\n",
        "            a = self.activation(np.dot(a, self.weights[l]))\n",
        "        return a\n",
        "\n",
        "if __name__ == '__main__':\n",
        "\n",
        "    nn = NeuralNetwork([2,2,1])\n",
        "    X = np.array([[0, 0],\n",
        "                  [0, 1],\n",
        "                  [1, 0],\n",
        "                  [1, 1]])\n",
        "    y = np.array([0, 1, 1, 0])\n",
        "#     X = np.array([[-1, -1],\n",
        "#                   [-1, 1],\n",
        "#                   [1, -1],\n",
        "#                   [1, 1]])\n",
        "#     y = np.array([0, 1, 1, 0])\n",
        "\n",
        "    nn.fit(X, y)\n",
        "    for e in X:\n",
        "        print(e,nn.predict(e))   "
      ],
      "execution_count": 6,
      "outputs": [
        {
          "output_type": "stream",
          "text": [
            "[[-0.45483094  0.00576327 -0.09929771]\n",
            " [-0.41947783 -0.62654086  0.1289184 ]\n",
            " [-0.94968912 -0.46697417  0.0936599 ]]\n",
            "[[-0.59981862]\n",
            " [ 0.22659517]\n",
            " [ 0.98172491]]\n",
            "epochs: 0\n",
            "epochs: 10000\n",
            "epochs: 20000\n",
            "epochs: 30000\n",
            "epochs: 40000\n",
            "epochs: 50000\n",
            "epochs: 60000\n",
            "epochs: 70000\n",
            "epochs: 80000\n",
            "epochs: 90000\n",
            "[0 0] [0.01905644]\n",
            "[0 1] [0.97408663]\n",
            "[1 0] [0.97250179]\n",
            "[1 1] [0.50307187]\n"
          ],
          "name": "stdout"
        }
      ]
    },
    {
      "cell_type": "code",
      "metadata": {
        "id": "vIMUVA_6ELIv",
        "colab_type": "code",
        "colab": {
          "base_uri": "https://localhost:8080/",
          "height": 285
        },
        "outputId": "08891ce5-bdc5-4611-f4f4-f9c9f0e80582"
      },
      "source": [
        "import matplotlib.pyplot as plt\n",
        "import numpy as np\n",
        "%matplotlib inline\n",
        "x = np.linspace(-10.0,10.0,100)\n",
        "sig = sigmoid_prime(x)\n",
        "plt.plot(x,sig)"
      ],
      "execution_count": 7,
      "outputs": [
        {
          "output_type": "execute_result",
          "data": {
            "text/plain": [
              "[<matplotlib.lines.Line2D at 0x7f448d4b1748>]"
            ]
          },
          "metadata": {
            "tags": []
          },
          "execution_count": 7
        },
        {
          "output_type": "display_data",
          "data": {
            "image/png": "[encoded data removed]",
            "text/plain": [
              "<Figure size 432x288 with 1 Axes>"
            ]
          },
          "metadata": {
            "tags": []
          }
        }
      ]
    },
    {
      "cell_type": "code",
      "metadata": {
        "id": "3yVrC7WTEMoB",
        "colab_type": "code",
        "colab": {
          "base_uri": "https://localhost:8080/",
          "height": 287
        },
        "outputId": "5d6cddb4-c954-4055-b2d8-952cd09fa4f1"
      },
      "source": [
        "import matplotlib.pyplot as plt\n",
        "import numpy as np\n",
        "%matplotlib inline\n",
        "plt.plot(E)"
      ],
      "execution_count": 8,
      "outputs": [
        {
          "output_type": "execute_result",
          "data": {
            "text/plain": [
              "[<matplotlib.lines.Line2D at 0x7f44873ec470>]"
            ]
          },
          "metadata": {
            "tags": []
          },
          "execution_count": 8
        },
        {
          "output_type": "display_data",
          "data": {
            "image/png": "[encoded data removed]",
            "text/plain": [
              "<Figure size 432x288 with 1 Axes>"
            ]
          },
          "metadata": {
            "tags": []
          }
        }
      ]
    }
  ]
}